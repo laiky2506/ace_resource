{
  "cells": [
    {
      "cell_type": "code",
      "execution_count": null,
      "id": "1dd2ba18",
      "metadata": {
        "id": "1dd2ba18",
        "colab": {
          "base_uri": "https://localhost:8080/"
        },
        "outputId": "532305d4-61cb-4b8a-800e-1ddf62aaceaf"
      },
      "outputs": [
        {
          "output_type": "stream",
          "name": "stdout",
          "text": [
            "Looking in indexes: https://pypi.org/simple, https://us-python.pkg.dev/colab-wheels/public/simple/\n",
            "Collecting beautifultable\n",
            "  Downloading beautifultable-1.1.0-py2.py3-none-any.whl (28 kB)\n",
            "Requirement already satisfied: wcwidth in /usr/local/lib/python3.7/dist-packages (from beautifultable) (0.2.5)\n",
            "Installing collected packages: beautifultable\n",
            "Successfully installed beautifultable-1.1.0\n"
          ]
        }
      ],
      "source": [
        "!pip install beautifultable\n",
        "import re\n",
        "from beautifultable import BeautifulTable\n",
        "import requests\n",
        "import matplotlib.pyplot as plt\n",
        "import seaborn as sns"
      ]
    },
    {
      "cell_type": "code",
      "execution_count": null,
      "id": "48c4d421",
      "metadata": {
        "id": "48c4d421",
        "outputId": "e7fdc215-ec3f-43c2-8582-bb60d5c78348",
        "colab": {
          "base_uri": "https://localhost:8080/"
        }
      },
      "outputs": [
        {
          "output_type": "stream",
          "name": "stdout",
          "text": [
            "['As a term, data analytics predominantly refers to an assortment of applications, from basic business\\r', 'intelligence (BI), reporting and online analytical processing (OLAP) to various forms of advanced\\r', \"analytics. In that sense, it's similar in nature to business analytics, another umbrella term for\\r\", 'approaches to analyzing data -- with the difference that the latter is oriented to business uses, while\\r', \"data analytics has a broader focus. The expansive view of the term isn't universal, though: In some\\r\", 'cases, people use data analytics specifically to mean advanced analytics, treating BI as a separate\\r', 'category. Data analytics initiatives can help businesses increase revenues, improve operational\\r', 'efficiency, optimize marketing campaigns and customer service efforts, respond more quickly to\\r', 'emerging market trends and gain a competitive edge over rivals -- all with the ultimate goal of\\r', \"boosting business performance. Depending on the particular application, the data that's analyzed\\r\", 'can consist of either historical records or new information that has been processed for real-time\\r', 'analytics uses. In addition, it can come from a mix of internal systems and external data sources. At\\r', 'a high level, data analytics methodologies include exploratory data analysis (EDA), which aims to find\\r', 'patterns and relationships in data, and confirmatory data analysis (CDA), which applies statistical\\r', 'techniques to determine whether hypotheses about a data set are true or false. EDA is often\\r', 'compared to detective work, while CDA is akin to the work of a judge or jury during a court trial -- a\\r', 'distinction first drawn by statistician John W. Tukey in his 1977 book Exploratory Data Analysis. Data\\r', 'analytics can also be separated into quantitative data analysis and qualitative data analysis. The\\r', 'former involves analysis of numerical data with quantifiable variables that can be compared or\\r', 'measured statistically. The qualitative approach is more interpretive -- it focuses on understanding\\r', 'the content of non-numerical data like text, images, audio and video, including common phrases,\\r', 'themes and points of view.']\n"
          ]
        }
      ],
      "source": [
        "response = requests.get(\"https://www.pastebin.com/raw/ZYRyXREP\")\n",
        "lines = response.text.split(\"\\n\")\n",
        "print(lines)"
      ]
    },
    {
      "cell_type": "code",
      "execution_count": null,
      "id": "e30a2fce",
      "metadata": {
        "id": "e30a2fce",
        "outputId": "9c5f4613-6faf-449e-97c9-316a3859a463",
        "colab": {
          "base_uri": "https://localhost:8080/"
        }
      },
      "outputs": [
        {
          "output_type": "stream",
          "name": "stdout",
          "text": [
            "+------+------------+--------------+--------------+----------------------------+\n",
            "| line | Total Word | Distinct Wor | Occurance of | Probability of the word “d |\n",
            "|      |    Count   |   d Count    |    “data”    |       ata” occurring       |\n",
            "+------+------------+--------------+--------------+----------------------------+\n",
            "|  1   |     15     |      15      |      1       |           0.067            |\n",
            "+------+------------+--------------+--------------+----------------------------+\n",
            "|  2   |     13     |      13      |      0       |            0.0             |\n",
            "+------+------------+--------------+--------------+----------------------------+\n",
            "|  3   |     16     |      14      |      0       |            0.0             |\n",
            "+------+------------+--------------+--------------+----------------------------+\n",
            "|  4   |     16     |      14      |      1       |           0.062            |\n",
            "+------+------------+--------------+--------------+----------------------------+\n",
            "|  5   |     18     |      17      |      0       |            0.0             |\n",
            "+------+------------+--------------+--------------+----------------------------+\n",
            "|  6   |     15     |      14      |      1       |           0.067            |\n",
            "+------+------------+--------------+--------------+----------------------------+\n",
            "|  7   |     11     |      11      |      1       |           0.091            |\n",
            "+------+------------+--------------+--------------+----------------------------+\n",
            "|  8   |     12     |      12      |      0       |            0.0             |\n",
            "+------+------------+--------------+--------------+----------------------------+\n",
            "|  9   |     16     |      16      |      0       |            0.0             |\n",
            "+------+------------+--------------+--------------+----------------------------+\n",
            "|  10  |     13     |      12      |      1       |           0.077            |\n",
            "+------+------------+--------------+--------------+----------------------------+\n",
            "|  11  |     16     |      16      |      0       |            0.0             |\n",
            "+------+------------+--------------+--------------+----------------------------+\n",
            "|  12  |     18     |      18      |      1       |           0.056            |\n",
            "+------+------------+--------------+--------------+----------------------------+\n",
            "|  13  |     15     |      14      |      2       |           0.133            |\n",
            "+------+------------+--------------+--------------+----------------------------+\n",
            "|  14  |     13     |      11      |      2       |           0.154            |\n",
            "+------+------------+--------------+--------------+----------------------------+\n",
            "|  15  |     16     |      16      |      1       |           0.062            |\n",
            "+------+------------+--------------+--------------+----------------------------+\n",
            "|  16  |     21     |      17      |      0       |            0.0             |\n",
            "+------+------------+--------------+--------------+----------------------------+\n",
            "|  17  |     16     |      15      |      1       |           0.062            |\n",
            "+------+------------+--------------+--------------+----------------------------+\n",
            "|  18  |     14     |      12      |      2       |           0.143            |\n",
            "+------+------------+--------------+--------------+----------------------------+\n",
            "|  19  |     14     |      14      |      1       |           0.071            |\n",
            "+------+------------+--------------+--------------+----------------------------+\n",
            "|  20  |     12     |      12      |      0       |            0.0             |\n",
            "+------+------------+--------------+--------------+----------------------------+\n",
            "|  21  |     15     |      15      |      1       |           0.067            |\n",
            "+------+------------+--------------+--------------+----------------------------+\n",
            "|  22  |     5      |      5       |      0       |            0.0             |\n",
            "+------+------------+--------------+--------------+----------------------------+\n"
          ]
        }
      ],
      "source": [
        "table = BeautifulTable()\n",
        "table.columns.header = [\"line\",\"Total Word Count\", \"Distinct Word Count\", \"Occurance of “data”\", \"Probability of the word “data” occurring\",]\n",
        "distinct_count = []\n",
        "for i,line in enumerate(lines):\n",
        "    lines[i] = line.strip()\n",
        "    line = lines[i].lower()\n",
        "    count_all = re.findall(\"[\\w|\\d]+\",line)\n",
        "    data_find = re.findall(\"\\Wdata\\W\",line.lower())\n",
        "    data_analytics_find = re.findall(\"\\Wdata\\Wanalytics\\W\",line)\n",
        "    new_list = list(dict.fromkeys(re.findall(\"[\\w|\\d]+\",line)))\n",
        "    distinct_count.append(len(new_list))\n",
        "    table.rows.append([i+1,len(count_all),len(new_list),len(data_find),round(len(data_find)/len(count_all),3)])\n",
        "print(table)"
      ]
    },
    {
      "cell_type": "code",
      "source": [
        "fig, ax = plt.subplots(2,1,figsize=(10,10))\n",
        "sns.histplot(distinct_count, bins=24, ax=ax[0])\n",
        "sns.kdeplot(distinct_count, ax=ax[1])"
      ],
      "metadata": {
        "colab": {
          "base_uri": "https://localhost:8080/",
          "height": 609
        },
        "id": "jSkz6sWWKfNX",
        "outputId": "b94f056b-5264-4186-ce4a-b4d34f84ad36"
      },
      "id": "jSkz6sWWKfNX",
      "execution_count": null,
      "outputs": [
        {
          "output_type": "execute_result",
          "data": {
            "text/plain": [
              "<matplotlib.axes._subplots.AxesSubplot at 0x7f0b4ae12050>"
            ]
          },
          "metadata": {},
          "execution_count": 5
        },
        {
          "output_type": "display_data",
          "data": {
            "text/plain": [
              "<Figure size 720x720 with 2 Axes>"
            ],
            "image/png": "[encoded data removed]"
          },
          "metadata": {
            "needs_background": "light"
          }
        }
      ]
    },
    {
      "cell_type": "code",
      "execution_count": null,
      "id": "703a0d2b",
      "metadata": {
        "id": "703a0d2b",
        "outputId": "32524b66-800e-4e65-b29f-b72404414246",
        "colab": {
          "base_uri": "https://localhost:8080/"
        }
      },
      "outputs": [
        {
          "output_type": "stream",
          "name": "stdout",
          "text": [
            "As a term, data analytics predominantly refers to an assortment of applications, from basic business intelligence (BI), reporting and online analytical processing (OLAP) to various forms of advanced analytics. In that sense, it's similar in nature to business analytics, another umbrella term for approaches to analyzing data -- with the difference that the latter is oriented to business uses, while data analytics has a broader focus. The expansive view of the term isn't universal, though: In some cases, people use data analytics specifically to mean advanced analytics, treating BI as a separate category. Data analytics initiatives can help businesses increase revenues, improve operational efficiency, optimize marketing campaigns and customer service efforts, respond more quickly to emerging market trends and gain a competitive edge over rivals -- all with the ultimate goal of boosting business performance. Depending on the particular application, the data that's analyzed can consist of either historical records or new information that has been processed for real-time analytics uses. In addition, it can come from a mix of internal systems and external data sources. At a high level, data analytics methodologies include exploratory data analysis (EDA), which aims to find patterns and relationships in data, and confirmatory data analysis (CDA), which applies statistical techniques to determine whether hypotheses about a data set are true or false. EDA is often compared to detective work, while CDA is akin to the work of a judge or jury during a court trial -- a distinction first drawn by statistician John W. Tukey in his 1977 book Exploratory Data Analysis. Data analytics can also be separated into quantitative data analysis and qualitative data analysis. The former involves analysis of numerical data with quantifiable variables that can be compared or measured statistically. The qualitative approach is more interpretive -- it focuses on understanding the content of non-numerical data like text, images, audio and video, including common phrases, themes and points of view.\n"
          ]
        }
      ],
      "source": [
        "text = ' '.join(lines)\n",
        "print(text)\n"
      ]
    },
    {
      "cell_type": "code",
      "execution_count": null,
      "id": "e0a7e5b5",
      "metadata": {
        "id": "e0a7e5b5",
        "outputId": "a24bfd7f-c66b-4831-9b43-cd87ae592d5e",
        "colab": {
          "base_uri": "https://localhost:8080/"
        }
      },
      "outputs": [
        {
          "output_type": "stream",
          "name": "stdout",
          "text": [
            "Probability of the word “analytics” occurring after the word “data”, P= data_analytics_count/data_count = 4/15 = 0.26666666666666666\n"
          ]
        }
      ],
      "source": [
        "data_count = len(re.findall(\"\\Wdata\\W\",text))\n",
        "data_analytics_count = len(re.findall(\"\\Wdata\\Wanalytics\\W\",text))\n",
        "P = data_analytics_count/data_count\n",
        "print(f\"Probability of the word “analytics” occurring after the word “data”, P= data_analytics_count/data_count = {data_analytics_count}/{data_count} = {P}\")"
      ]
    },
    {
      "cell_type": "code",
      "execution_count": null,
      "id": "ef68dafd",
      "metadata": {
        "id": "ef68dafd"
      },
      "outputs": [],
      "source": [
        ""
      ]
    }
  ],
  "metadata": {
    "kernelspec": {
      "display_name": "Python 3 (ipykernel)",
      "language": "python",
      "name": "python3"
    },
    "language_info": {
      "codemirror_mode": {
        "name": "ipython",
        "version": 3
      },
      "file_extension": ".py",
      "mimetype": "text/x-python",
      "name": "python",
      "nbconvert_exporter": "python",
      "pygments_lexer": "ipython3",
      "version": "3.9.12"
    },
    "colab": {
      "name": "Question 3.ipynb",
      "provenance": []
    }
  },
  "nbformat": 4,
  "nbformat_minor": 5
}